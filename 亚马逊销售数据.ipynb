{
 "cells": [
  {
   "cell_type": "markdown",
   "id": "9398b1fd-4ebf-4073-a093-61731cc3ed67",
   "metadata": {},
   "source": [
    "# 项目：亚马逊销售数据"
   ]
  },
  {
   "cell_type": "markdown",
   "id": "d5d96447-e7f5-4c8b-baeb-f136b8bba909",
   "metadata": {},
   "source": [
    "## 简介\n",
    "\n",
    "该数据集包含超过一千条亚马逊产品的评分、评论、价格等信息，数据来自于亚马逊官方网站上列出的详细信息。\n",
    "\n",
    "变量含义：\n",
    "- `product_id`：产品id\n",
    "- `product_name`：产品的名称\n",
    "- `category`：产品的分类\n",
    "- `discounted_price`：产品的折扣价格\n",
    "- `actual_price`：产品的实际价格\n",
    "- `discount_percentage`：产品折扣的百分比\n",
    "- `rating`：消费者的评分\n",
    "- `rating_count`：参与评分的消费者数量\n",
    "- `about_product`：产品的描述\n",
    "- `user_id`：为产品撰写评论的消费者id\n",
    "- `user_name`：为产品撰写评论的消费者名称\n",
    "- `review_id`：评论的id\n",
    "- `review_title`：简短的评论题目\n",
    "- `review_content`：评论内容\n",
    "- `img_link`：产品的图片链接\n",
    "- `product_link`：产品的官网链接"
   ]
  },
  {
   "cell_type": "markdown",
   "id": "c47e3422-8afa-4d68-bc8d-e66d0f6605b1",
   "metadata": {},
   "source": [
    "## **读取数据**"
   ]
  },
  {
   "cell_type": "code",
   "execution_count": 1,
   "id": "3c00b5b5-c065-4041-83ab-f83ce113fc46",
   "metadata": {},
   "outputs": [],
   "source": [
    "import numpy as np\n",
    "import pandas as pd\n",
    "import matplotlib.pyplot as plt\n",
    "import seaborn as sns"
   ]
  },
  {
   "cell_type": "code",
   "execution_count": 2,
   "id": "8184db2e-c7d9-4bf8-8bbc-a1d59e8c39eb",
   "metadata": {},
   "outputs": [],
   "source": [
    "original_data = pd.read_csv(\"./amazon.csv\")"
   ]
  },
  {
   "cell_type": "markdown",
   "id": "0784814e-b42a-44b6-ad1b-56f103ae7315",
   "metadata": {},
   "source": [
    "## **评估和清理数据**"
   ]
  },
  {
   "cell_type": "code",
   "execution_count": 3,
   "id": "5ee877f6-446e-4b00-9111-14d9f0638d18",
   "metadata": {},
   "outputs": [],
   "source": [
    "cleaned_data = original_data.copy()"
   ]
  },
  {
   "cell_type": "code",
   "execution_count": 4,
   "id": "7ac3a6ed-5270-4721-a15c-8d28ff750d11",
   "metadata": {},
   "outputs": [
    {
     "name": "stdout",
     "output_type": "stream",
     "text": [
      "<class 'pandas.core.frame.DataFrame'>\n",
      "RangeIndex: 1465 entries, 0 to 1464\n",
      "Data columns (total 16 columns):\n",
      " #   Column               Non-Null Count  Dtype \n",
      "---  ------               --------------  ----- \n",
      " 0   product_id           1465 non-null   object\n",
      " 1   product_name         1465 non-null   object\n",
      " 2   category             1465 non-null   object\n",
      " 3   discounted_price     1465 non-null   object\n",
      " 4   actual_price         1465 non-null   object\n",
      " 5   discount_percentage  1465 non-null   object\n",
      " 6   rating               1465 non-null   object\n",
      " 7   rating_count         1463 non-null   object\n",
      " 8   about_product        1465 non-null   object\n",
      " 9   user_id              1465 non-null   object\n",
      " 10  user_name            1465 non-null   object\n",
      " 11  review_id            1465 non-null   object\n",
      " 12  review_title         1465 non-null   object\n",
      " 13  review_content       1465 non-null   object\n",
      " 14  img_link             1465 non-null   object\n",
      " 15  product_link         1465 non-null   object\n",
      "dtypes: object(16)\n",
      "memory usage: 183.3+ KB\n"
     ]
    }
   ],
   "source": [
    "cleaned_data.info()"
   ]
  },
  {
   "cell_type": "code",
   "execution_count": 5,
   "id": "91941fcb-117e-48a4-8cf0-d2651e7d530b",
   "metadata": {},
   "outputs": [
    {
     "data": {
      "text/html": [
       "<div>\n",
       "<style scoped>\n",
       "    .dataframe tbody tr th:only-of-type {\n",
       "        vertical-align: middle;\n",
       "    }\n",
       "\n",
       "    .dataframe tbody tr th {\n",
       "        vertical-align: top;\n",
       "    }\n",
       "\n",
       "    .dataframe thead th {\n",
       "        text-align: right;\n",
       "    }\n",
       "</style>\n",
       "<table border=\"1\" class=\"dataframe\">\n",
       "  <thead>\n",
       "    <tr style=\"text-align: right;\">\n",
       "      <th></th>\n",
       "      <th>product_id</th>\n",
       "      <th>product_name</th>\n",
       "      <th>category</th>\n",
       "      <th>discounted_price</th>\n",
       "      <th>actual_price</th>\n",
       "      <th>discount_percentage</th>\n",
       "      <th>rating</th>\n",
       "      <th>rating_count</th>\n",
       "      <th>about_product</th>\n",
       "      <th>user_id</th>\n",
       "      <th>user_name</th>\n",
       "      <th>review_id</th>\n",
       "      <th>review_title</th>\n",
       "      <th>review_content</th>\n",
       "      <th>img_link</th>\n",
       "      <th>product_link</th>\n",
       "    </tr>\n",
       "  </thead>\n",
       "  <tbody>\n",
       "    <tr>\n",
       "      <th>0</th>\n",
       "      <td>B07JW9H4J1</td>\n",
       "      <td>Wayona Nylon Braided USB to Lightning Fast Cha...</td>\n",
       "      <td>Computers&amp;Accessories|Accessories&amp;Peripherals|...</td>\n",
       "      <td>₹399</td>\n",
       "      <td>₹1,099</td>\n",
       "      <td>64%</td>\n",
       "      <td>4.2</td>\n",
       "      <td>24,269</td>\n",
       "      <td>High Compatibility : Compatible With iPhone 12...</td>\n",
       "      <td>AG3D6O4STAQKAY2UVGEUV46KN35Q,AHMY5CWJMMK5BJRBB...</td>\n",
       "      <td>Manav,Adarsh gupta,Sundeep,S.Sayeed Ahmed,jasp...</td>\n",
       "      <td>R3HXWT0LRP0NMF,R2AJM3LFTLZHFO,R6AQJGUP6P86,R1K...</td>\n",
       "      <td>Satisfied,Charging is really fast,Value for mo...</td>\n",
       "      <td>Looks durable Charging is fine tooNo complains...</td>\n",
       "      <td>https://m.media-amazon.com/images/W/WEBP_40237...</td>\n",
       "      <td>https://www.amazon.in/Wayona-Braided-WN3LG1-Sy...</td>\n",
       "    </tr>\n",
       "    <tr>\n",
       "      <th>1</th>\n",
       "      <td>B098NS6PVG</td>\n",
       "      <td>Ambrane Unbreakable 60W / 3A Fast Charging 1.5...</td>\n",
       "      <td>Computers&amp;Accessories|Accessories&amp;Peripherals|...</td>\n",
       "      <td>₹199</td>\n",
       "      <td>₹349</td>\n",
       "      <td>43%</td>\n",
       "      <td>4.0</td>\n",
       "      <td>43,994</td>\n",
       "      <td>Compatible with all Type C enabled devices, be...</td>\n",
       "      <td>AECPFYFQVRUWC3KGNLJIOREFP5LQ,AGYYVPDD7YG7FYNBX...</td>\n",
       "      <td>ArdKn,Nirbhay kumar,Sagar Viswanathan,Asp,Plac...</td>\n",
       "      <td>RGIQEG07R9HS2,R1SMWZQ86XIN8U,R2J3Y1WL29GWDE,RY...</td>\n",
       "      <td>A Good Braided Cable for Your Type C Device,Go...</td>\n",
       "      <td>I ordered this cable to connect my phone to An...</td>\n",
       "      <td>https://m.media-amazon.com/images/W/WEBP_40237...</td>\n",
       "      <td>https://www.amazon.in/Ambrane-Unbreakable-Char...</td>\n",
       "    </tr>\n",
       "    <tr>\n",
       "      <th>2</th>\n",
       "      <td>B096MSW6CT</td>\n",
       "      <td>Sounce Fast Phone Charging Cable &amp; Data Sync U...</td>\n",
       "      <td>Computers&amp;Accessories|Accessories&amp;Peripherals|...</td>\n",
       "      <td>₹199</td>\n",
       "      <td>₹1,899</td>\n",
       "      <td>90%</td>\n",
       "      <td>3.9</td>\n",
       "      <td>7,928</td>\n",
       "      <td>【 Fast Charger&amp; Data Sync】-With built-in safet...</td>\n",
       "      <td>AGU3BBQ2V2DDAMOAKGFAWDDQ6QHA,AESFLDV2PT363T2AQ...</td>\n",
       "      <td>Kunal,Himanshu,viswanath,sai niharka,saqib mal...</td>\n",
       "      <td>R3J3EQQ9TZI5ZJ,R3E7WBGK7ID0KV,RWU79XKQ6I1QF,R2...</td>\n",
       "      <td>Good speed for earlier versions,Good Product,W...</td>\n",
       "      <td>Not quite durable and sturdy,https://m.media-a...</td>\n",
       "      <td>https://m.media-amazon.com/images/W/WEBP_40237...</td>\n",
       "      <td>https://www.amazon.in/Sounce-iPhone-Charging-C...</td>\n",
       "    </tr>\n",
       "    <tr>\n",
       "      <th>3</th>\n",
       "      <td>B08HDJ86NZ</td>\n",
       "      <td>boAt Deuce USB 300 2 in 1 Type-C &amp; Micro USB S...</td>\n",
       "      <td>Computers&amp;Accessories|Accessories&amp;Peripherals|...</td>\n",
       "      <td>₹329</td>\n",
       "      <td>₹699</td>\n",
       "      <td>53%</td>\n",
       "      <td>4.2</td>\n",
       "      <td>94,363</td>\n",
       "      <td>The boAt Deuce USB 300 2 in 1 cable is compati...</td>\n",
       "      <td>AEWAZDZZJLQUYVOVGBEUKSLXHQ5A,AG5HTSFRRE6NL3M5S...</td>\n",
       "      <td>Omkar dhale,JD,HEMALATHA,Ajwadh a.,amar singh ...</td>\n",
       "      <td>R3EEUZKKK9J36I,R3HJVYCLYOY554,REDECAZ7AMPQC,R1...</td>\n",
       "      <td>Good product,Good one,Nice,Really nice product...</td>\n",
       "      <td>Good product,long wire,Charges good,Nice,I bou...</td>\n",
       "      <td>https://m.media-amazon.com/images/I/41V5FtEWPk...</td>\n",
       "      <td>https://www.amazon.in/Deuce-300-Resistant-Tang...</td>\n",
       "    </tr>\n",
       "    <tr>\n",
       "      <th>4</th>\n",
       "      <td>B08CF3B7N1</td>\n",
       "      <td>Portronics Konnect L 1.2M Fast Charging 3A 8 P...</td>\n",
       "      <td>Computers&amp;Accessories|Accessories&amp;Peripherals|...</td>\n",
       "      <td>₹154</td>\n",
       "      <td>₹399</td>\n",
       "      <td>61%</td>\n",
       "      <td>4.2</td>\n",
       "      <td>16,905</td>\n",
       "      <td>[CHARGE &amp; SYNC FUNCTION]- This cable comes wit...</td>\n",
       "      <td>AE3Q6KSUK5P75D5HFYHCRAOLODSA,AFUGIFH5ZAFXRDSZH...</td>\n",
       "      <td>rahuls6099,Swasat Borah,Ajay Wadke,Pranali,RVK...</td>\n",
       "      <td>R1BP4L2HH9TFUP,R16PVJEXKV6QZS,R2UPDB81N66T4P,R...</td>\n",
       "      <td>As good as original,Decent,Good one for second...</td>\n",
       "      <td>Bought this instead of original apple, does th...</td>\n",
       "      <td>https://m.media-amazon.com/images/W/WEBP_40237...</td>\n",
       "      <td>https://www.amazon.in/Portronics-Konnect-POR-1...</td>\n",
       "    </tr>\n",
       "  </tbody>\n",
       "</table>\n",
       "</div>"
      ],
      "text/plain": [
       "   product_id                                       product_name  \\\n",
       "0  B07JW9H4J1  Wayona Nylon Braided USB to Lightning Fast Cha...   \n",
       "1  B098NS6PVG  Ambrane Unbreakable 60W / 3A Fast Charging 1.5...   \n",
       "2  B096MSW6CT  Sounce Fast Phone Charging Cable & Data Sync U...   \n",
       "3  B08HDJ86NZ  boAt Deuce USB 300 2 in 1 Type-C & Micro USB S...   \n",
       "4  B08CF3B7N1  Portronics Konnect L 1.2M Fast Charging 3A 8 P...   \n",
       "\n",
       "                                            category discounted_price  \\\n",
       "0  Computers&Accessories|Accessories&Peripherals|...             ₹399   \n",
       "1  Computers&Accessories|Accessories&Peripherals|...             ₹199   \n",
       "2  Computers&Accessories|Accessories&Peripherals|...             ₹199   \n",
       "3  Computers&Accessories|Accessories&Peripherals|...             ₹329   \n",
       "4  Computers&Accessories|Accessories&Peripherals|...             ₹154   \n",
       "\n",
       "  actual_price discount_percentage rating rating_count  \\\n",
       "0       ₹1,099                 64%    4.2       24,269   \n",
       "1         ₹349                 43%    4.0       43,994   \n",
       "2       ₹1,899                 90%    3.9        7,928   \n",
       "3         ₹699                 53%    4.2       94,363   \n",
       "4         ₹399                 61%    4.2       16,905   \n",
       "\n",
       "                                       about_product  \\\n",
       "0  High Compatibility : Compatible With iPhone 12...   \n",
       "1  Compatible with all Type C enabled devices, be...   \n",
       "2  【 Fast Charger& Data Sync】-With built-in safet...   \n",
       "3  The boAt Deuce USB 300 2 in 1 cable is compati...   \n",
       "4  [CHARGE & SYNC FUNCTION]- This cable comes wit...   \n",
       "\n",
       "                                             user_id  \\\n",
       "0  AG3D6O4STAQKAY2UVGEUV46KN35Q,AHMY5CWJMMK5BJRBB...   \n",
       "1  AECPFYFQVRUWC3KGNLJIOREFP5LQ,AGYYVPDD7YG7FYNBX...   \n",
       "2  AGU3BBQ2V2DDAMOAKGFAWDDQ6QHA,AESFLDV2PT363T2AQ...   \n",
       "3  AEWAZDZZJLQUYVOVGBEUKSLXHQ5A,AG5HTSFRRE6NL3M5S...   \n",
       "4  AE3Q6KSUK5P75D5HFYHCRAOLODSA,AFUGIFH5ZAFXRDSZH...   \n",
       "\n",
       "                                           user_name  \\\n",
       "0  Manav,Adarsh gupta,Sundeep,S.Sayeed Ahmed,jasp...   \n",
       "1  ArdKn,Nirbhay kumar,Sagar Viswanathan,Asp,Plac...   \n",
       "2  Kunal,Himanshu,viswanath,sai niharka,saqib mal...   \n",
       "3  Omkar dhale,JD,HEMALATHA,Ajwadh a.,amar singh ...   \n",
       "4  rahuls6099,Swasat Borah,Ajay Wadke,Pranali,RVK...   \n",
       "\n",
       "                                           review_id  \\\n",
       "0  R3HXWT0LRP0NMF,R2AJM3LFTLZHFO,R6AQJGUP6P86,R1K...   \n",
       "1  RGIQEG07R9HS2,R1SMWZQ86XIN8U,R2J3Y1WL29GWDE,RY...   \n",
       "2  R3J3EQQ9TZI5ZJ,R3E7WBGK7ID0KV,RWU79XKQ6I1QF,R2...   \n",
       "3  R3EEUZKKK9J36I,R3HJVYCLYOY554,REDECAZ7AMPQC,R1...   \n",
       "4  R1BP4L2HH9TFUP,R16PVJEXKV6QZS,R2UPDB81N66T4P,R...   \n",
       "\n",
       "                                        review_title  \\\n",
       "0  Satisfied,Charging is really fast,Value for mo...   \n",
       "1  A Good Braided Cable for Your Type C Device,Go...   \n",
       "2  Good speed for earlier versions,Good Product,W...   \n",
       "3  Good product,Good one,Nice,Really nice product...   \n",
       "4  As good as original,Decent,Good one for second...   \n",
       "\n",
       "                                      review_content  \\\n",
       "0  Looks durable Charging is fine tooNo complains...   \n",
       "1  I ordered this cable to connect my phone to An...   \n",
       "2  Not quite durable and sturdy,https://m.media-a...   \n",
       "3  Good product,long wire,Charges good,Nice,I bou...   \n",
       "4  Bought this instead of original apple, does th...   \n",
       "\n",
       "                                            img_link  \\\n",
       "0  https://m.media-amazon.com/images/W/WEBP_40237...   \n",
       "1  https://m.media-amazon.com/images/W/WEBP_40237...   \n",
       "2  https://m.media-amazon.com/images/W/WEBP_40237...   \n",
       "3  https://m.media-amazon.com/images/I/41V5FtEWPk...   \n",
       "4  https://m.media-amazon.com/images/W/WEBP_40237...   \n",
       "\n",
       "                                        product_link  \n",
       "0  https://www.amazon.in/Wayona-Braided-WN3LG1-Sy...  \n",
       "1  https://www.amazon.in/Ambrane-Unbreakable-Char...  \n",
       "2  https://www.amazon.in/Sounce-iPhone-Charging-C...  \n",
       "3  https://www.amazon.in/Deuce-300-Resistant-Tang...  \n",
       "4  https://www.amazon.in/Portronics-Konnect-POR-1...  "
      ]
     },
     "execution_count": 5,
     "metadata": {},
     "output_type": "execute_result"
    }
   ],
   "source": [
    "cleaned_data.head()"
   ]
  },
  {
   "cell_type": "markdown",
   "id": "6371f5b8-d750-4733-9d24-cb920f0773aa",
   "metadata": {},
   "source": [
    "`user_id`、`user_name`、`review_id` 列包含多个用户或评论 ID，用逗号分隔。这种情况可能需要拆分成单独的记录以便分析。"
   ]
  },
  {
   "cell_type": "code",
   "execution_count": 6,
   "id": "44cf8868-c300-4e54-b312-0864f85a4380",
   "metadata": {},
   "outputs": [],
   "source": [
    "# 1. 将含有逗号的列拆分为列表\n",
    "cleaned_data['user_id'] = cleaned_data['user_id'].str.split(',')\n",
    "cleaned_data['user_name'] = cleaned_data['user_name'].str.split(',')\n",
    "cleaned_data['review_id'] = cleaned_data['review_id'].str.split(',')\n",
    "\n",
    "# 2. 使用 explode 函数，将每个列表中的元素展开为多行\n",
    "cleaned_data = cleaned_data.explode('user_id').explode('user_name').explode('review_id')\n",
    "\n",
    "# 重置索引，丢弃原来的索引，生成新的序号\n",
    "cleaned_data = cleaned_data.reset_index(drop=True)"
   ]
  },
  {
   "cell_type": "code",
   "execution_count": 7,
   "id": "8b936ba7-0366-4bca-ba22-aa8f2b0d90a8",
   "metadata": {},
   "outputs": [],
   "source": [
    "# cleaned_data.head()"
   ]
  },
  {
   "cell_type": "markdown",
   "id": "a2191da0-2204-486e-b348-f45b5c06a8dd",
   "metadata": {},
   "source": [
    "`discounted_price` 和 `actual_price` 是以货币符号（₹）表示的字符串，而非数值类型，这需要转换为浮点数，去掉货币符号才能进行计算和分析。\n",
    "\n",
    "`discount_percentage` 是字符串类型，包含 % 符号，需要去除 % 并转换为数值类型以便分析。"
   ]
  },
  {
   "cell_type": "code",
   "execution_count": 8,
   "id": "08c6e6d7-78af-4c5f-a2ac-ed880052a97b",
   "metadata": {},
   "outputs": [],
   "source": [
    "# 去掉货币符号 '₹' 和逗号，将价格列转换为浮点数\n",
    "cleaned_data['discounted_price'] = cleaned_data['discounted_price'].str.replace('₹', '').str.replace(',', '').astype(float)\n",
    "cleaned_data['actual_price'] = cleaned_data['actual_price'].str.replace('₹', '').str.replace(',', '').astype(float)\n",
    "\n",
    "# 去掉百分比符号，将折扣列转换为浮点数\n",
    "cleaned_data['discount_percentage'] = cleaned_data['discount_percentage'].str.replace('%', '').astype(float)"
   ]
  },
  {
   "cell_type": "markdown",
   "id": "0290ecf1-7fe0-49b5-808e-85614d253e7a",
   "metadata": {},
   "source": [
    "`rating` 和 `rating_count` 列也是字符串类型，需要转换为数值类型（浮点数和整数）。\n",
    "\n",
    "使用中位数填充`rating_count`中的缺失值。"
   ]
  },
  {
   "cell_type": "code",
   "execution_count": 9,
   "id": "1006a2e9-fd3b-4193-a6d1-2bb95c81dbbd",
   "metadata": {},
   "outputs": [],
   "source": [
    "# 将评分列转换为数值类型，非数字值将被转为 NaN\n",
    "cleaned_data['rating'] = pd.to_numeric(cleaned_data['rating'], errors='coerce')\n",
    "# 删除 rating 列中包含 NaN 的行\n",
    "cleaned_data = cleaned_data.dropna(subset=['rating'])\n",
    "\n",
    "# 去掉评分数量中的逗号，并将其转换为数值\n",
    "cleaned_data['rating_count'] = cleaned_data['rating_count'].str.replace(',', '').astype(float)\n",
    "# 使用评分数量的中位数填充缺失值\n",
    "cleaned_data['rating_count'].fillna(cleaned_data['rating_count'].median(), inplace=True)"
   ]
  },
  {
   "cell_type": "code",
   "execution_count": 10,
   "id": "a7c7e37c-495f-45ca-ab60-1cb41043965e",
   "metadata": {},
   "outputs": [
    {
     "name": "stdout",
     "output_type": "stream",
     "text": [
      "<class 'pandas.core.frame.DataFrame'>\n",
      "Index: 727985 entries, 0 to 728496\n",
      "Data columns (total 16 columns):\n",
      " #   Column               Non-Null Count   Dtype  \n",
      "---  ------               --------------   -----  \n",
      " 0   product_id           727985 non-null  object \n",
      " 1   product_name         727985 non-null  object \n",
      " 2   category             727985 non-null  object \n",
      " 3   discounted_price     727985 non-null  float64\n",
      " 4   actual_price         727985 non-null  float64\n",
      " 5   discount_percentage  727985 non-null  float64\n",
      " 6   rating               727985 non-null  float64\n",
      " 7   rating_count         727985 non-null  float64\n",
      " 8   about_product        727985 non-null  object \n",
      " 9   user_id              727985 non-null  object \n",
      " 10  user_name            727985 non-null  object \n",
      " 11  review_id            727985 non-null  object \n",
      " 12  review_title         727985 non-null  object \n",
      " 13  review_content       727985 non-null  object \n",
      " 14  img_link             727985 non-null  object \n",
      " 15  product_link         727985 non-null  object \n",
      "dtypes: float64(5), object(11)\n",
      "memory usage: 94.4+ MB\n"
     ]
    }
   ],
   "source": [
    "cleaned_data.info()"
   ]
  },
  {
   "cell_type": "markdown",
   "id": "c3b65b6a-c92d-4b5f-a4e8-d31a6ea82a8b",
   "metadata": {},
   "source": [
    "## **数据分析**"
   ]
  },
  {
   "cell_type": "code",
   "execution_count": 11,
   "id": "c9633649-f002-4750-8169-01fd536a690f",
   "metadata": {},
   "outputs": [],
   "source": [
    "# 设置图表色盘为\"pastel\"\n",
    "sns.set_palette(\"pastel\")"
   ]
  },
  {
   "cell_type": "markdown",
   "id": "9afd3ee2-eea3-4c80-bd84-ddb839869edb",
   "metadata": {},
   "source": [
    "### 1 产品价格分析"
   ]
  },
  {
   "cell_type": "code",
   "execution_count": 12,
   "id": "141bc0d2-afad-453b-a019-3f3fdf8ce8e8",
   "metadata": {},
   "outputs": [],
   "source": [
    "# # 折扣幅度\n",
    "# cleaned_data['discount_diff'] = cleaned_data['actual_price'] - cleaned_data['discounted_price']\n",
    "\n",
    "# # 按类别比较折扣幅度\n",
    "# plt.figure(figsize=(10, 6))\n",
    "# sns.boxplot(x='category', y='discount_diff', data=cleaned_data)\n",
    "# plt.xticks(rotation=90)\n",
    "# plt.title('Discount range by category')\n",
    "# plt.show()\n",
    "\n",
    "# # 种类太多了"
   ]
  },
  {
   "cell_type": "code",
   "execution_count": 13,
   "id": "f728b343-b6e5-4ddd-8f57-d50dd8077800",
   "metadata": {},
   "outputs": [
    {
     "name": "stdout",
     "output_type": "stream",
     "text": [
      "最高折扣产品:\n",
      " product_id                                                    B097C564GC\n",
      "product_name           rts [2 Pack] Mini USB C Type C Adapter Plug, T...\n",
      "category               Computers&Accessories|Accessories&Peripherals|...\n",
      "discounted_price                                                   294.0\n",
      "actual_price                                                      4999.0\n",
      "discount_percentage                                                 94.0\n",
      "rating                                                               4.3\n",
      "rating_count                                                      4426.0\n",
      "about_product          【WIDER COMPATIBILITY】This USB C Female to USB ...\n",
      "user_id                                     AGO5SRT3ESLNL5WTRQFD5BSIYPQA\n",
      "user_name                                             Naga Sai Gadagottu\n",
      "review_id                                                 R3CUNCZTU43JPP\n",
      "review_title           Tiny helping hand,Good product,As a whole good...\n",
      "review_content         This eliminates the need to buy chargers for t...\n",
      "img_link               https://m.media-amazon.com/images/W/WEBP_40237...\n",
      "product_link           https://www.amazon.in/rts-Adapter-Charging-Con...\n",
      "Name: 343915, dtype: object\n",
      "最低折扣产品:\n",
      " product_id                                                    B008FWZGSG\n",
      "product_name           Samsung Original Type C to C Cable - 3.28 Feet...\n",
      "category               Computers&Accessories|Accessories&Peripherals|...\n",
      "discounted_price                                                   599.0\n",
      "actual_price                                                       599.0\n",
      "discount_percentage                                                  0.0\n",
      "rating                                                               4.3\n",
      "rating_count                                                       355.0\n",
      "about_product          USB Type-C to Type-C cable with universal comp...\n",
      "user_id                                     AEQWVGESA7TDGK7KZ4DAJQGYH32A\n",
      "user_name                                                 Verified Buyer\n",
      "review_id                                                 R2Z9ENI1BK4EAB\n",
      "review_title           Good,Genuine product,Not first charge this cab...\n",
      "review_content         Buy it,Received in good condition and is worki...\n",
      "img_link               https://m.media-amazon.com/images/W/WEBP_40237...\n",
      "product_link           https://www.amazon.in/Samsung-Original-Type-Ca...\n",
      "Name: 16960, dtype: object\n"
     ]
    }
   ],
   "source": [
    "# 最高折扣产品\n",
    "max_discount = cleaned_data.loc[cleaned_data['discount_percentage'].idxmax()]\n",
    "print(\"最高折扣产品:\\n\", max_discount)\n",
    "\n",
    "# 最低折扣产品\n",
    "min_discount = cleaned_data.loc[cleaned_data['discount_percentage'].idxmin()]\n",
    "print(\"最低折扣产品:\\n\", min_discount)"
   ]
  },
  {
   "cell_type": "markdown",
   "id": "ca30f7cc-782d-4d2e-95ee-3658581f4f3a",
   "metadata": {},
   "source": [
    "### 2 评分分析"
   ]
  },
  {
   "cell_type": "code",
   "execution_count": 14,
   "id": "9cd3783f-665b-45fb-a588-d5a98a77d16c",
   "metadata": {},
   "outputs": [
    {
     "name": "stdout",
     "output_type": "stream",
     "text": [
      "评分最高产品:\n",
      " product_id                                                    B0BP7XLX48\n",
      "product_name           Syncwire LTG to USB Cable for Fast Charging Co...\n",
      "category               Computers&Accessories|Accessories&Peripherals|...\n",
      "discounted_price                                                   399.0\n",
      "actual_price                                                      1999.0\n",
      "discount_percentage                                                 80.0\n",
      "rating                                                               5.0\n",
      "rating_count                                                         5.0\n",
      "about_product          This sturdy and durable cable made of tpe and ...\n",
      "user_id                                     AF7EOXYL5K36BDP6PXF6K2TL5TPA\n",
      "user_name                                                Amazon Customer\n",
      "review_id                                                 R1L2JNO4Y3BHYF\n",
      "review_title           Good,Superb quality,Good products  nice one,Wo...\n",
      "review_content         Product is good in quality. Working good with ...\n",
      "img_link               https://m.media-amazon.com/images/I/317OoQfs1g...\n",
      "product_link           https://www.amazon.in/Syncwire-Cable-Charging-...\n",
      "Name: 87859, dtype: object\n",
      "评分最低产品:\n",
      " product_id                                                    B0BPJBTB3F\n",
      "product_name           Khaitan ORFin Fan heater for Home and kitchen-...\n",
      "category               Home&Kitchen|Heating,Cooling&AirQuality|RoomHe...\n",
      "discounted_price                                                  1299.0\n",
      "actual_price                                                      2495.0\n",
      "discount_percentage                                                 48.0\n",
      "rating                                                               2.0\n",
      "rating_count                                                         2.0\n",
      "about_product          Khaitan Orfin Fan heater for Home and kitchen|...\n",
      "user_id                                     AGHT3K4KSG5MAQUSXRDT5VNB73GA\n",
      "user_name                                              Manidipa Sengupta\n",
      "review_id                                                 R1OO2ED6615EX1\n",
      "review_title                               Bad quality,Amazing product..\n",
      "review_content         The heating capacity is zero .Moreover i have ...\n",
      "img_link               https://m.media-amazon.com/images/W/WEBP_40237...\n",
      "product_link           https://www.amazon.in/Khaitan-ORFin-heater-Hom...\n",
      "Name: 651650, dtype: object\n"
     ]
    }
   ],
   "source": [
    "# 评分最高产品\n",
    "highest_rated = cleaned_data.loc[cleaned_data['rating'].idxmax()]\n",
    "print(\"评分最高产品:\\n\", highest_rated)\n",
    "\n",
    "# 评分最低产品\n",
    "lowest_rated = cleaned_data.loc[cleaned_data['rating'].idxmin()]\n",
    "print(\"评分最低产品:\\n\", lowest_rated)"
   ]
  },
  {
   "cell_type": "code",
   "execution_count": 15,
   "id": "f626c1f5-7fff-4091-adee-3af810cabc14",
   "metadata": {},
   "outputs": [
    {
     "data": {
      "image/png": "[encoded data removed]",
      "text/plain": [
       "<Figure size 1000x600 with 1 Axes>"
      ]
     },
     "metadata": {},
     "output_type": "display_data"
    }
   ],
   "source": [
    "# 评估评分与销量（评论数量）的关系\n",
    "plt.figure(figsize=(10, 6))\n",
    "sns.scatterplot(x='rating', y='rating_count', data=cleaned_data)\n",
    "plt.title('Relationship between rating and sales')\n",
    "plt.show()"
   ]
  },
  {
   "cell_type": "markdown",
   "id": "65cadc99-fe3d-46fd-9780-3026202fd942",
   "metadata": {},
   "source": [
    "### 3 类别分析"
   ]
  },
  {
   "cell_type": "markdown",
   "id": "49a97a47-e430-467f-88ff-11de21c0d2a8",
   "metadata": {},
   "source": [
    "不同产品类别的销量、折扣情况和平均评分"
   ]
  },
  {
   "cell_type": "code",
   "execution_count": 16,
   "id": "dc23a7ea-98e6-4ade-82a6-b6b856043e49",
   "metadata": {},
   "outputs": [
    {
     "name": "stdout",
     "output_type": "stream",
     "text": [
      "                                              category    rating  \\\n",
      "0    Car&Motorbike|CarAccessories|InteriorAccessori...  3.800000   \n",
      "1    Computers&Accessories|Accessories&Peripherals|...  4.150000   \n",
      "2    Computers&Accessories|Accessories&Peripherals|...  3.500000   \n",
      "3    Computers&Accessories|Accessories&Peripherals|...  3.600000   \n",
      "4    Computers&Accessories|Accessories&Peripherals|...  4.050000   \n",
      "..                                                 ...       ...   \n",
      "206  OfficeProducts|OfficePaperProducts|Paper|Stati...  4.250000   \n",
      "207  OfficeProducts|OfficePaperProducts|Paper|Stati...  4.150000   \n",
      "208  OfficeProducts|OfficePaperProducts|Paper|Stati...  4.300000   \n",
      "209  OfficeProducts|OfficePaperProducts|Paper|Stati...  4.133333   \n",
      "210  Toys&Games|Arts&Crafts|Drawing&PaintingSupplie...  4.300000   \n",
      "\n",
      "     rating_count  discount_percentage  \n",
      "0        572416.0                 42.0  \n",
      "1       3054592.0                 78.5  \n",
      "2       3697664.0                 35.0  \n",
      "3       9099776.0                 56.5  \n",
      "4       6424064.0                 46.5  \n",
      "..            ...                  ...  \n",
      "206     4311040.0                  0.0  \n",
      "207     4160000.0                  5.0  \n",
      "208     4182528.0                 17.5  \n",
      "209     5369344.0                 13.0  \n",
      "210     8123904.0                  0.0  \n",
      "\n",
      "[211 rows x 4 columns]\n"
     ]
    }
   ],
   "source": [
    "# 计算每个类别的平均评分、销量和折扣\n",
    "category_analysis = cleaned_data.groupby('category').agg({\n",
    "    'rating': 'mean',\n",
    "    'rating_count': 'sum',\n",
    "    'discount_percentage': 'mean'\n",
    "}).reset_index()\n",
    "\n",
    "print(category_analysis)"
   ]
  },
  {
   "cell_type": "code",
   "execution_count": 17,
   "id": "49ed57d5-75c8-4a02-9a35-bb6b3e368d70",
   "metadata": {},
   "outputs": [],
   "source": [
    "# # 可视化\n",
    "# plt.figure(figsize=(10, 6))\n",
    "# sns.barplot(x='category', y='rating', data=category_analysis)\n",
    "# plt.xticks(rotation=90)\n",
    "# plt.title('Average rating across different product categories')\n",
    "# plt.show()\n",
    "\n",
    "# # 但是种类太多了"
   ]
  },
  {
   "cell_type": "markdown",
   "id": "bfdbea37-8234-49e3-8eaa-9745f8521251",
   "metadata": {},
   "source": [
    "### 4 评论活跃度分析"
   ]
  },
  {
   "cell_type": "code",
   "execution_count": 18,
   "id": "47bdfa71-39a7-4c3d-8725-cec7fe8030c4",
   "metadata": {},
   "outputs": [
    {
     "name": "stdout",
     "output_type": "stream",
     "text": [
      "                        user_id  comment_count\n",
      "0  AG5DWPD54QGSLWJ6QUFERLPNAX4Q            704\n",
      "1  AE55KTFVNXYFD5FPYWP2OUPEYNPQ            704\n",
      "2  AECPFYFQVRUWC3KGNLJIOREFP5LQ            640\n",
      "3  AHIKJUDTVJ4T6DV6IUGFYZ5LXMPA            640\n",
      "4  AHMGAC6QM62UXNEOCZIHLHSXPP2Q            640\n",
      "5  AFHROSCGIXUPV3FYQ7H5QOD46Q7Q            640\n",
      "6  AEAMIR3CMSA32IDEINSJKHRNANTA            640\n",
      "7  AF355FTXYAKFH5NYPRTE7SL3WO3Q            640\n",
      "8  AEBWA5I4QFCA3P3OBEPMELBGN4GQ            640\n",
      "9  AFV7ZA733ZLME4KNLZPMPCBUNPPA            624\n"
     ]
    }
   ],
   "source": [
    "# 统计每个用户的评论数量\n",
    "user_activity = cleaned_data['user_id'].value_counts().reset_index()\n",
    "user_activity.columns = ['user_id', 'comment_count']\n",
    "\n",
    "# 打印最活跃的前10个用户\n",
    "print(user_activity.head(10))"
   ]
  },
  {
   "cell_type": "code",
   "execution_count": 20,
   "id": "1ef39fd6-186e-4477-89e0-4921fc25f5c3",
   "metadata": {},
   "outputs": [
    {
     "data": {
      "image/png": "[encoded data removed]",
      "text/plain": [
       "<Figure size 1000x600 with 1 Axes>"
      ]
     },
     "metadata": {},
     "output_type": "display_data"
    }
   ],
   "source": [
    "# 可视化最活跃用户的评论数量\n",
    "plt.figure(figsize=(10, 6))\n",
    "sns.barplot(x='user_id', y='comment_count', hue='user_id', data=user_activity.head(10), palette='Set2', legend=False)\n",
    "plt.title('Number of reviews by the most active users')\n",
    "plt.xticks(rotation=90)\n",
    "plt.show()"
   ]
  },
  {
   "cell_type": "code",
   "execution_count": null,
   "id": "666338fb-ce13-49d3-b4d9-4ed60305b84f",
   "metadata": {},
   "outputs": [],
   "source": []
  }
 ],
 "metadata": {
  "kernelspec": {
   "display_name": "Python 3 (ipykernel)",
   "language": "python",
   "name": "python3"
  },
  "language_info": {
   "codemirror_mode": {
    "name": "ipython",
    "version": 3
   },
   "file_extension": ".py",
   "mimetype": "text/x-python",
   "name": "python",
   "nbconvert_exporter": "python",
   "pygments_lexer": "ipython3",
   "version": "3.12.4"
  }
 },
 "nbformat": 4,
 "nbformat_minor": 5
}
